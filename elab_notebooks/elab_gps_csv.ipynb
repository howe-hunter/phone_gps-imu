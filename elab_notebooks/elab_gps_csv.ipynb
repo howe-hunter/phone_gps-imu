{
 "cells": [
  {
   "cell_type": "code",
   "execution_count": 1,
   "source": [
    "import numpy as np\n",
    "import csv\n",
    "import pandas as pd\n",
    "import matplotlib.pyplot as plt"
   ],
   "outputs": [],
   "metadata": {}
  },
  {
   "cell_type": "code",
   "execution_count": 2,
   "source": [
    "fname = '/home/hunter/hunter_sync/space/undergrad_work/hunterh/notes/gps_tests/test_2_20min/20210806_042435.csv'"
   ],
   "outputs": [],
   "metadata": {}
  },
  {
   "cell_type": "code",
   "execution_count": 3,
   "source": [
    "df = pd.read_csv (r'/home/hunter/hunter_sync/space/undergrad_work/hunterh/notes/gps_tests/test_2_20min/20210806_042435.csv')   #read the csv file (put 'r' before the path string to address any special characters in the path, such as '\\'). Don't forget to put the file name at the end of the path + \".csv\"\n",
    "print (df)"
   ],
   "outputs": [
    {
     "output_type": "stream",
     "name": "stdout",
     "text": [
      "        Longitude   Latitude  Speed      Distance      Time     Acc X  \\\n",
      "0     -119.815202  39.540823   0.48  1.252403e+07  04-24-36 -0.003317   \n",
      "1     -119.815166  39.540811   0.83  0.000000e+00  04-24-36 -0.002034   \n",
      "2     -119.815166  39.540811   0.83  0.000000e+00  04-24-36 -0.002034   \n",
      "3     -119.815166  39.540811   0.83  0.000000e+00  04-24-36 -0.002034   \n",
      "4     -119.815166  39.540811   0.83  0.000000e+00  04-24-36 -0.001190   \n",
      "...           ...        ...    ...           ...       ...       ...   \n",
      "17946 -119.815126  39.541035   0.33  2.513257e+01  04-44-48  0.001355   \n",
      "17947 -119.815126  39.541035   0.33  2.513257e+01  04-44-48  0.001355   \n",
      "17948 -119.815126  39.541035   0.33  2.513257e+01  04-44-48  0.001355   \n",
      "17949 -119.815126  39.541035   0.33  2.513257e+01  04-44-48  0.001355   \n",
      "17950 -119.815126  39.541035   0.33  2.513257e+01  04-44-48  0.001355   \n",
      "\n",
      "          Acc Y     Acc Z  Heading    gyro_x    gyro_y    gyro_z  \n",
      "0     -0.000768  0.001073    248.0 -0.000076 -0.000504  0.000504  \n",
      "1      0.001791 -0.002097    248.0 -0.000137 -0.000610 -0.000137  \n",
      "2      0.001791 -0.002097    248.0 -0.000137 -0.000610 -0.000137  \n",
      "3      0.001791 -0.002097    248.0 -0.000137 -0.000610 -0.000137  \n",
      "4     -0.000452  0.001890    248.0 -0.000137 -0.000397 -0.000336  \n",
      "...         ...       ...      ...       ...       ...       ...  \n",
      "17946 -0.001749 -0.002991    247.0 -0.000031  0.000092  0.000259  \n",
      "17947 -0.001749 -0.002991    247.0 -0.000031  0.000092  0.000259  \n",
      "17948 -0.001749 -0.002991    247.0 -0.000031  0.000092  0.000259  \n",
      "17949 -0.001749 -0.002991    247.0 -0.000031  0.000092  0.000259  \n",
      "17950 -0.001749 -0.002991    247.0 -0.000031  0.000092  0.000259  \n",
      "\n",
      "[17951 rows x 12 columns]\n"
     ]
    }
   ],
   "metadata": {
    "scrolled": false
   }
  },
  {
   "cell_type": "code",
   "execution_count": 4,
   "source": [
    "df[\"Time\"]"
   ],
   "outputs": [
    {
     "output_type": "execute_result",
     "data": {
      "text/plain": [
       "0        04-24-36\n",
       "1        04-24-36\n",
       "2        04-24-36\n",
       "3        04-24-36\n",
       "4        04-24-36\n",
       "           ...   \n",
       "17946    04-44-48\n",
       "17947    04-44-48\n",
       "17948    04-44-48\n",
       "17949    04-44-48\n",
       "17950    04-44-48\n",
       "Name: Time, Length: 17951, dtype: object"
      ]
     },
     "metadata": {},
     "execution_count": 4
    }
   ],
   "metadata": {}
  },
  {
   "cell_type": "code",
   "execution_count": 5,
   "source": [
    "df.columns"
   ],
   "outputs": [
    {
     "output_type": "execute_result",
     "data": {
      "text/plain": [
       "Index(['Longitude', 'Latitude', 'Speed', 'Distance', 'Time', 'Acc X', 'Acc Y',\n",
       "       'Acc Z', 'Heading', 'gyro_x', 'gyro_y', 'gyro_z'],\n",
       "      dtype='object')"
      ]
     },
     "metadata": {},
     "execution_count": 5
    }
   ],
   "metadata": {}
  },
  {
   "cell_type": "code",
   "execution_count": 6,
   "source": [
    "type(df[\"Time\"].head(45).to_numpy())"
   ],
   "outputs": [
    {
     "output_type": "execute_result",
     "data": {
      "text/plain": [
       "numpy.ndarray"
      ]
     },
     "metadata": {},
     "execution_count": 6
    }
   ],
   "metadata": {}
  },
  {
   "cell_type": "code",
   "execution_count": 7,
   "source": [
    "data = pd.read_csv (r'/home/hunter/hunter_sync/space/undergrad_work/hunterh/notes/gps_tests/test_2_20min/20210806_042435.csv')   \n",
    "df_all = pd.DataFrame(data, columns= ['Longitude',\n",
    "                                  'Latitude',\n",
    "                                  'Speed',\n",
    "                                  'Distance',\n",
    "                                  'Time',\n",
    "                                  'Acc X',\n",
    "                                  'Acc Y',\n",
    "                                  'Acc Z',\n",
    "                                  'Heading',\n",
    "                                 'gyro_x',\n",
    "                                 'gyro_y',\n",
    "                                 'gyro_z'])\n",
    "print (df_all)"
   ],
   "outputs": [
    {
     "output_type": "stream",
     "name": "stdout",
     "text": [
      "        Longitude   Latitude  Speed      Distance      Time     Acc X  \\\n",
      "0     -119.815202  39.540823   0.48  1.252403e+07  04-24-36 -0.003317   \n",
      "1     -119.815166  39.540811   0.83  0.000000e+00  04-24-36 -0.002034   \n",
      "2     -119.815166  39.540811   0.83  0.000000e+00  04-24-36 -0.002034   \n",
      "3     -119.815166  39.540811   0.83  0.000000e+00  04-24-36 -0.002034   \n",
      "4     -119.815166  39.540811   0.83  0.000000e+00  04-24-36 -0.001190   \n",
      "...           ...        ...    ...           ...       ...       ...   \n",
      "17946 -119.815126  39.541035   0.33  2.513257e+01  04-44-48  0.001355   \n",
      "17947 -119.815126  39.541035   0.33  2.513257e+01  04-44-48  0.001355   \n",
      "17948 -119.815126  39.541035   0.33  2.513257e+01  04-44-48  0.001355   \n",
      "17949 -119.815126  39.541035   0.33  2.513257e+01  04-44-48  0.001355   \n",
      "17950 -119.815126  39.541035   0.33  2.513257e+01  04-44-48  0.001355   \n",
      "\n",
      "          Acc Y     Acc Z  Heading    gyro_x    gyro_y    gyro_z  \n",
      "0     -0.000768  0.001073    248.0 -0.000076 -0.000504  0.000504  \n",
      "1      0.001791 -0.002097    248.0 -0.000137 -0.000610 -0.000137  \n",
      "2      0.001791 -0.002097    248.0 -0.000137 -0.000610 -0.000137  \n",
      "3      0.001791 -0.002097    248.0 -0.000137 -0.000610 -0.000137  \n",
      "4     -0.000452  0.001890    248.0 -0.000137 -0.000397 -0.000336  \n",
      "...         ...       ...      ...       ...       ...       ...  \n",
      "17946 -0.001749 -0.002991    247.0 -0.000031  0.000092  0.000259  \n",
      "17947 -0.001749 -0.002991    247.0 -0.000031  0.000092  0.000259  \n",
      "17948 -0.001749 -0.002991    247.0 -0.000031  0.000092  0.000259  \n",
      "17949 -0.001749 -0.002991    247.0 -0.000031  0.000092  0.000259  \n",
      "17950 -0.001749 -0.002991    247.0 -0.000031  0.000092  0.000259  \n",
      "\n",
      "[17951 rows x 12 columns]\n"
     ]
    }
   ],
   "metadata": {
    "scrolled": true
   }
  },
  {
   "cell_type": "code",
   "execution_count": 8,
   "source": [
    "df_time = pd.DataFrame(data, columns= ['Time'])\n",
    "print (df_time)"
   ],
   "outputs": [
    {
     "output_type": "stream",
     "name": "stdout",
     "text": [
      "           Time\n",
      "0      04-24-36\n",
      "1      04-24-36\n",
      "2      04-24-36\n",
      "3      04-24-36\n",
      "4      04-24-36\n",
      "...         ...\n",
      "17946  04-44-48\n",
      "17947  04-44-48\n",
      "17948  04-44-48\n",
      "17949  04-44-48\n",
      "17950  04-44-48\n",
      "\n",
      "[17951 rows x 1 columns]\n"
     ]
    }
   ],
   "metadata": {
    "scrolled": true
   }
  },
  {
   "cell_type": "code",
   "execution_count": 9,
   "source": [
    "timepoint = [\"04-24-37\"]\n",
    "boolean_series = df.Time.isin(timepoint)\n",
    "filtered_df = df[boolean_series]\n",
    "filtered_df"
   ],
   "outputs": [
    {
     "output_type": "execute_result",
     "data": {
      "text/html": [
       "<div>\n",
       "<style scoped>\n",
       "    .dataframe tbody tr th:only-of-type {\n",
       "        vertical-align: middle;\n",
       "    }\n",
       "\n",
       "    .dataframe tbody tr th {\n",
       "        vertical-align: top;\n",
       "    }\n",
       "\n",
       "    .dataframe thead th {\n",
       "        text-align: right;\n",
       "    }\n",
       "</style>\n",
       "<table border=\"1\" class=\"dataframe\">\n",
       "  <thead>\n",
       "    <tr style=\"text-align: right;\">\n",
       "      <th></th>\n",
       "      <th>Longitude</th>\n",
       "      <th>Latitude</th>\n",
       "      <th>Speed</th>\n",
       "      <th>Distance</th>\n",
       "      <th>Time</th>\n",
       "      <th>Acc X</th>\n",
       "      <th>Acc Y</th>\n",
       "      <th>Acc Z</th>\n",
       "      <th>Heading</th>\n",
       "      <th>gyro_x</th>\n",
       "      <th>gyro_y</th>\n",
       "      <th>gyro_z</th>\n",
       "    </tr>\n",
       "  </thead>\n",
       "  <tbody>\n",
       "    <tr>\n",
       "      <th>8</th>\n",
       "      <td>-119.815166</td>\n",
       "      <td>39.540811</td>\n",
       "      <td>0.83</td>\n",
       "      <td>0.000000</td>\n",
       "      <td>04-24-37</td>\n",
       "      <td>0.001022</td>\n",
       "      <td>0.000704</td>\n",
       "      <td>-0.001374</td>\n",
       "      <td>248.0</td>\n",
       "      <td>-0.000031</td>\n",
       "      <td>0.000290</td>\n",
       "      <td>-0.000290</td>\n",
       "    </tr>\n",
       "    <tr>\n",
       "      <th>9</th>\n",
       "      <td>-119.815166</td>\n",
       "      <td>39.540811</td>\n",
       "      <td>0.83</td>\n",
       "      <td>0.000000</td>\n",
       "      <td>04-24-37</td>\n",
       "      <td>-0.000920</td>\n",
       "      <td>-0.000566</td>\n",
       "      <td>0.003921</td>\n",
       "      <td>248.0</td>\n",
       "      <td>0.000137</td>\n",
       "      <td>0.000015</td>\n",
       "      <td>-0.000397</td>\n",
       "    </tr>\n",
       "    <tr>\n",
       "      <th>10</th>\n",
       "      <td>-119.815138</td>\n",
       "      <td>39.540798</td>\n",
       "      <td>0.48</td>\n",
       "      <td>2.818182</td>\n",
       "      <td>04-24-37</td>\n",
       "      <td>-0.000920</td>\n",
       "      <td>-0.000566</td>\n",
       "      <td>0.003921</td>\n",
       "      <td>248.0</td>\n",
       "      <td>0.000137</td>\n",
       "      <td>0.000015</td>\n",
       "      <td>-0.000397</td>\n",
       "    </tr>\n",
       "    <tr>\n",
       "      <th>11</th>\n",
       "      <td>-119.815138</td>\n",
       "      <td>39.540798</td>\n",
       "      <td>0.48</td>\n",
       "      <td>2.818182</td>\n",
       "      <td>04-24-37</td>\n",
       "      <td>-0.000920</td>\n",
       "      <td>-0.000566</td>\n",
       "      <td>0.003921</td>\n",
       "      <td>248.0</td>\n",
       "      <td>0.000137</td>\n",
       "      <td>0.000015</td>\n",
       "      <td>-0.000397</td>\n",
       "    </tr>\n",
       "    <tr>\n",
       "      <th>12</th>\n",
       "      <td>-119.815138</td>\n",
       "      <td>39.540798</td>\n",
       "      <td>0.48</td>\n",
       "      <td>2.818182</td>\n",
       "      <td>04-24-37</td>\n",
       "      <td>-0.000920</td>\n",
       "      <td>-0.000566</td>\n",
       "      <td>0.003921</td>\n",
       "      <td>248.0</td>\n",
       "      <td>0.000137</td>\n",
       "      <td>0.000015</td>\n",
       "      <td>-0.000397</td>\n",
       "    </tr>\n",
       "    <tr>\n",
       "      <th>13</th>\n",
       "      <td>-119.815138</td>\n",
       "      <td>39.540798</td>\n",
       "      <td>0.48</td>\n",
       "      <td>2.818182</td>\n",
       "      <td>04-24-37</td>\n",
       "      <td>0.000406</td>\n",
       "      <td>-0.001767</td>\n",
       "      <td>0.002766</td>\n",
       "      <td>248.0</td>\n",
       "      <td>0.000031</td>\n",
       "      <td>-0.000610</td>\n",
       "      <td>-0.000351</td>\n",
       "    </tr>\n",
       "    <tr>\n",
       "      <th>14</th>\n",
       "      <td>-119.815138</td>\n",
       "      <td>39.540798</td>\n",
       "      <td>0.48</td>\n",
       "      <td>2.818182</td>\n",
       "      <td>04-24-37</td>\n",
       "      <td>0.000406</td>\n",
       "      <td>-0.001767</td>\n",
       "      <td>0.002766</td>\n",
       "      <td>248.0</td>\n",
       "      <td>0.000031</td>\n",
       "      <td>-0.000610</td>\n",
       "      <td>-0.000351</td>\n",
       "    </tr>\n",
       "    <tr>\n",
       "      <th>15</th>\n",
       "      <td>-119.815138</td>\n",
       "      <td>39.540798</td>\n",
       "      <td>0.48</td>\n",
       "      <td>2.818182</td>\n",
       "      <td>04-24-37</td>\n",
       "      <td>0.000406</td>\n",
       "      <td>-0.001767</td>\n",
       "      <td>0.002766</td>\n",
       "      <td>248.0</td>\n",
       "      <td>0.000031</td>\n",
       "      <td>-0.000610</td>\n",
       "      <td>-0.000351</td>\n",
       "    </tr>\n",
       "    <tr>\n",
       "      <th>16</th>\n",
       "      <td>-119.815138</td>\n",
       "      <td>39.540798</td>\n",
       "      <td>0.48</td>\n",
       "      <td>2.818182</td>\n",
       "      <td>04-24-37</td>\n",
       "      <td>-0.004570</td>\n",
       "      <td>0.002711</td>\n",
       "      <td>0.001400</td>\n",
       "      <td>248.0</td>\n",
       "      <td>0.000397</td>\n",
       "      <td>-0.000397</td>\n",
       "      <td>0.000076</td>\n",
       "    </tr>\n",
       "    <tr>\n",
       "      <th>17</th>\n",
       "      <td>-119.815138</td>\n",
       "      <td>39.540798</td>\n",
       "      <td>0.48</td>\n",
       "      <td>2.818182</td>\n",
       "      <td>04-24-37</td>\n",
       "      <td>-0.004570</td>\n",
       "      <td>0.002711</td>\n",
       "      <td>0.001400</td>\n",
       "      <td>248.0</td>\n",
       "      <td>0.000397</td>\n",
       "      <td>-0.000397</td>\n",
       "      <td>0.000076</td>\n",
       "    </tr>\n",
       "    <tr>\n",
       "      <th>18</th>\n",
       "      <td>-119.815138</td>\n",
       "      <td>39.540798</td>\n",
       "      <td>0.48</td>\n",
       "      <td>2.818182</td>\n",
       "      <td>04-24-37</td>\n",
       "      <td>-0.004570</td>\n",
       "      <td>0.002711</td>\n",
       "      <td>0.001400</td>\n",
       "      <td>248.0</td>\n",
       "      <td>0.000397</td>\n",
       "      <td>-0.000397</td>\n",
       "      <td>0.000076</td>\n",
       "    </tr>\n",
       "    <tr>\n",
       "      <th>19</th>\n",
       "      <td>-119.815138</td>\n",
       "      <td>39.540798</td>\n",
       "      <td>0.48</td>\n",
       "      <td>2.818182</td>\n",
       "      <td>04-24-37</td>\n",
       "      <td>-0.001752</td>\n",
       "      <td>-0.003715</td>\n",
       "      <td>-0.003960</td>\n",
       "      <td>248.0</td>\n",
       "      <td>0.000137</td>\n",
       "      <td>0.000183</td>\n",
       "      <td>-0.000076</td>\n",
       "    </tr>\n",
       "    <tr>\n",
       "      <th>20</th>\n",
       "      <td>-119.815138</td>\n",
       "      <td>39.540798</td>\n",
       "      <td>0.48</td>\n",
       "      <td>2.818182</td>\n",
       "      <td>04-24-37</td>\n",
       "      <td>-0.001752</td>\n",
       "      <td>-0.003715</td>\n",
       "      <td>-0.003960</td>\n",
       "      <td>248.0</td>\n",
       "      <td>0.000137</td>\n",
       "      <td>0.000183</td>\n",
       "      <td>-0.000076</td>\n",
       "    </tr>\n",
       "    <tr>\n",
       "      <th>21</th>\n",
       "      <td>-119.815138</td>\n",
       "      <td>39.540798</td>\n",
       "      <td>0.48</td>\n",
       "      <td>2.818182</td>\n",
       "      <td>04-24-37</td>\n",
       "      <td>-0.001752</td>\n",
       "      <td>-0.003715</td>\n",
       "      <td>-0.003960</td>\n",
       "      <td>248.0</td>\n",
       "      <td>0.000137</td>\n",
       "      <td>0.000183</td>\n",
       "      <td>-0.000076</td>\n",
       "    </tr>\n",
       "    <tr>\n",
       "      <th>22</th>\n",
       "      <td>-119.815138</td>\n",
       "      <td>39.540798</td>\n",
       "      <td>0.48</td>\n",
       "      <td>2.818182</td>\n",
       "      <td>04-24-37</td>\n",
       "      <td>0.002109</td>\n",
       "      <td>0.000203</td>\n",
       "      <td>0.002190</td>\n",
       "      <td>248.0</td>\n",
       "      <td>-0.000031</td>\n",
       "      <td>-0.000671</td>\n",
       "      <td>-0.000183</td>\n",
       "    </tr>\n",
       "  </tbody>\n",
       "</table>\n",
       "</div>"
      ],
      "text/plain": [
       "     Longitude   Latitude  Speed  Distance      Time     Acc X     Acc Y  \\\n",
       "8  -119.815166  39.540811   0.83  0.000000  04-24-37  0.001022  0.000704   \n",
       "9  -119.815166  39.540811   0.83  0.000000  04-24-37 -0.000920 -0.000566   \n",
       "10 -119.815138  39.540798   0.48  2.818182  04-24-37 -0.000920 -0.000566   \n",
       "11 -119.815138  39.540798   0.48  2.818182  04-24-37 -0.000920 -0.000566   \n",
       "12 -119.815138  39.540798   0.48  2.818182  04-24-37 -0.000920 -0.000566   \n",
       "13 -119.815138  39.540798   0.48  2.818182  04-24-37  0.000406 -0.001767   \n",
       "14 -119.815138  39.540798   0.48  2.818182  04-24-37  0.000406 -0.001767   \n",
       "15 -119.815138  39.540798   0.48  2.818182  04-24-37  0.000406 -0.001767   \n",
       "16 -119.815138  39.540798   0.48  2.818182  04-24-37 -0.004570  0.002711   \n",
       "17 -119.815138  39.540798   0.48  2.818182  04-24-37 -0.004570  0.002711   \n",
       "18 -119.815138  39.540798   0.48  2.818182  04-24-37 -0.004570  0.002711   \n",
       "19 -119.815138  39.540798   0.48  2.818182  04-24-37 -0.001752 -0.003715   \n",
       "20 -119.815138  39.540798   0.48  2.818182  04-24-37 -0.001752 -0.003715   \n",
       "21 -119.815138  39.540798   0.48  2.818182  04-24-37 -0.001752 -0.003715   \n",
       "22 -119.815138  39.540798   0.48  2.818182  04-24-37  0.002109  0.000203   \n",
       "\n",
       "       Acc Z  Heading    gyro_x    gyro_y    gyro_z  \n",
       "8  -0.001374    248.0 -0.000031  0.000290 -0.000290  \n",
       "9   0.003921    248.0  0.000137  0.000015 -0.000397  \n",
       "10  0.003921    248.0  0.000137  0.000015 -0.000397  \n",
       "11  0.003921    248.0  0.000137  0.000015 -0.000397  \n",
       "12  0.003921    248.0  0.000137  0.000015 -0.000397  \n",
       "13  0.002766    248.0  0.000031 -0.000610 -0.000351  \n",
       "14  0.002766    248.0  0.000031 -0.000610 -0.000351  \n",
       "15  0.002766    248.0  0.000031 -0.000610 -0.000351  \n",
       "16  0.001400    248.0  0.000397 -0.000397  0.000076  \n",
       "17  0.001400    248.0  0.000397 -0.000397  0.000076  \n",
       "18  0.001400    248.0  0.000397 -0.000397  0.000076  \n",
       "19 -0.003960    248.0  0.000137  0.000183 -0.000076  \n",
       "20 -0.003960    248.0  0.000137  0.000183 -0.000076  \n",
       "21 -0.003960    248.0  0.000137  0.000183 -0.000076  \n",
       "22  0.002190    248.0 -0.000031 -0.000671 -0.000183  "
      ]
     },
     "metadata": {},
     "execution_count": 9
    }
   ],
   "metadata": {}
  },
  {
   "cell_type": "code",
   "execution_count": 10,
   "source": [
    "df['Time'].value_counts()"
   ],
   "outputs": [
    {
     "output_type": "execute_result",
     "data": {
      "text/plain": [
       "04-43-26    15\n",
       "04-25-05    15\n",
       "04-33-27    15\n",
       "04-26-58    15\n",
       "04-38-34    15\n",
       "            ..\n",
       "04-37-12    14\n",
       "04-36-04    14\n",
       "04-33-28    14\n",
       "04-44-48    12\n",
       "04-24-36     8\n",
       "Name: Time, Length: 1213, dtype: int64"
      ]
     },
     "metadata": {},
     "execution_count": 10
    }
   ],
   "metadata": {}
  },
  {
   "cell_type": "code",
   "execution_count": 11,
   "source": [
    "df['Time'].describe()"
   ],
   "outputs": [
    {
     "output_type": "execute_result",
     "data": {
      "text/plain": [
       "count        17951\n",
       "unique        1213\n",
       "top       04-43-26\n",
       "freq            15\n",
       "Name: Time, dtype: object"
      ]
     },
     "metadata": {},
     "execution_count": 11
    }
   ],
   "metadata": {}
  },
  {
   "cell_type": "code",
   "execution_count": 12,
   "source": [
    "counts_per_sec = 0\n",
    "counts = []\n",
    "\n",
    "for i in range(0, len(df['Time'])):\n",
    "    if df['Time'][i] == '04-24-37':\n",
    "        counts.append(df['Time'][i])\n",
    "        counts_per_sec += 1\n",
    "\n",
    "print(\"Counts per sec: \", counts_per_sec)\n",
    "\n",
    "print(\"Counts: \", counts)"
   ],
   "outputs": [
    {
     "output_type": "stream",
     "name": "stdout",
     "text": [
      "Counts per sec:  15\n",
      "Counts:  ['04-24-37', '04-24-37', '04-24-37', '04-24-37', '04-24-37', '04-24-37', '04-24-37', '04-24-37', '04-24-37', '04-24-37', '04-24-37', '04-24-37', '04-24-37', '04-24-37', '04-24-37']\n"
     ]
    }
   ],
   "metadata": {}
  },
  {
   "cell_type": "code",
   "execution_count": null,
   "source": [],
   "outputs": [],
   "metadata": {}
  }
 ],
 "metadata": {
  "kernelspec": {
   "name": "python3",
   "display_name": "Python 3.7.10 64-bit ('pomlab': conda)"
  },
  "language_info": {
   "codemirror_mode": {
    "name": "ipython",
    "version": 3
   },
   "file_extension": ".py",
   "mimetype": "text/x-python",
   "name": "python",
   "nbconvert_exporter": "python",
   "pygments_lexer": "ipython3",
   "version": "3.7.10"
  },
  "interpreter": {
   "hash": "6f30d4184fedcacdd46ea7083b0b7b16b8b0f7e6367d7586e2a8fe1b4035067b"
  }
 },
 "nbformat": 4,
 "nbformat_minor": 5
}