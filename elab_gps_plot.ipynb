{
 "cells": [
  {
   "cell_type": "code",
   "execution_count": 1,
   "source": [
    "import numpy as np\n",
    "import csv\n",
    "import pandas as pd\n",
    "import matplotlib.pyplot as plt"
   ],
   "outputs": [],
   "metadata": {}
  },
  {
   "cell_type": "markdown",
   "source": [
    "# Video on: phone unlocked in pocket"
   ],
   "metadata": {}
  },
  {
   "cell_type": "code",
   "execution_count": 2,
   "source": [
    "df_vid_on = pd.read_csv(r'/home/hunter/hunter_sync/space/undergrad_work/hunterh/notes/gps_tests/test_4_gps/20210903_034136/20210903_034136.csv')\n",
    "df_vid_on"
   ],
   "outputs": [
    {
     "output_type": "execute_result",
     "data": {
      "text/html": [
       "<div>\n",
       "<style scoped>\n",
       "    .dataframe tbody tr th:only-of-type {\n",
       "        vertical-align: middle;\n",
       "    }\n",
       "\n",
       "    .dataframe tbody tr th {\n",
       "        vertical-align: top;\n",
       "    }\n",
       "\n",
       "    .dataframe thead th {\n",
       "        text-align: right;\n",
       "    }\n",
       "</style>\n",
       "<table border=\"1\" class=\"dataframe\">\n",
       "  <thead>\n",
       "    <tr style=\"text-align: right;\">\n",
       "      <th></th>\n",
       "      <th>Longitude</th>\n",
       "      <th>Latitude</th>\n",
       "      <th>Speed</th>\n",
       "      <th>Distance</th>\n",
       "      <th>Time</th>\n",
       "      <th>Acc X</th>\n",
       "      <th>Acc Y</th>\n",
       "      <th>Acc Z</th>\n",
       "      <th>Heading</th>\n",
       "      <th>gyro_x</th>\n",
       "      <th>gyro_y</th>\n",
       "      <th>gyro_z</th>\n",
       "    </tr>\n",
       "  </thead>\n",
       "  <tbody>\n",
       "    <tr>\n",
       "      <th>0</th>\n",
       "      <td>-119.814605</td>\n",
       "      <td>39.540291</td>\n",
       "      <td>0.0</td>\n",
       "      <td>70.013115</td>\n",
       "      <td>03-41-37</td>\n",
       "      <td>-0.811433</td>\n",
       "      <td>0.003386</td>\n",
       "      <td>0.005771</td>\n",
       "      <td>217.0</td>\n",
       "      <td>-0.072922</td>\n",
       "      <td>-0.268402</td>\n",
       "      <td>0.130447</td>\n",
       "    </tr>\n",
       "    <tr>\n",
       "      <th>1</th>\n",
       "      <td>-119.814605</td>\n",
       "      <td>39.540291</td>\n",
       "      <td>0.0</td>\n",
       "      <td>70.013115</td>\n",
       "      <td>03-41-37</td>\n",
       "      <td>-0.387347</td>\n",
       "      <td>-0.277568</td>\n",
       "      <td>-0.133297</td>\n",
       "      <td>212.0</td>\n",
       "      <td>-0.047348</td>\n",
       "      <td>-0.145096</td>\n",
       "      <td>0.058014</td>\n",
       "    </tr>\n",
       "    <tr>\n",
       "      <th>2</th>\n",
       "      <td>-119.814605</td>\n",
       "      <td>39.540291</td>\n",
       "      <td>0.0</td>\n",
       "      <td>70.013115</td>\n",
       "      <td>03-41-37</td>\n",
       "      <td>0.059652</td>\n",
       "      <td>-0.101004</td>\n",
       "      <td>0.177783</td>\n",
       "      <td>212.0</td>\n",
       "      <td>-0.048309</td>\n",
       "      <td>0.188492</td>\n",
       "      <td>0.320129</td>\n",
       "    </tr>\n",
       "    <tr>\n",
       "      <th>3</th>\n",
       "      <td>-119.814605</td>\n",
       "      <td>39.540291</td>\n",
       "      <td>0.0</td>\n",
       "      <td>70.013115</td>\n",
       "      <td>03-41-37</td>\n",
       "      <td>0.059652</td>\n",
       "      <td>-0.101004</td>\n",
       "      <td>0.177783</td>\n",
       "      <td>212.0</td>\n",
       "      <td>-0.048309</td>\n",
       "      <td>0.188492</td>\n",
       "      <td>0.320129</td>\n",
       "    </tr>\n",
       "    <tr>\n",
       "      <th>4</th>\n",
       "      <td>-119.814605</td>\n",
       "      <td>39.540291</td>\n",
       "      <td>0.0</td>\n",
       "      <td>70.013115</td>\n",
       "      <td>03-41-37</td>\n",
       "      <td>0.059652</td>\n",
       "      <td>-0.101004</td>\n",
       "      <td>0.177783</td>\n",
       "      <td>212.0</td>\n",
       "      <td>-0.048309</td>\n",
       "      <td>0.188492</td>\n",
       "      <td>0.320129</td>\n",
       "    </tr>\n",
       "    <tr>\n",
       "      <th>...</th>\n",
       "      <td>...</td>\n",
       "      <td>...</td>\n",
       "      <td>...</td>\n",
       "      <td>...</td>\n",
       "      <td>...</td>\n",
       "      <td>...</td>\n",
       "      <td>...</td>\n",
       "      <td>...</td>\n",
       "      <td>...</td>\n",
       "      <td>...</td>\n",
       "      <td>...</td>\n",
       "      <td>...</td>\n",
       "    </tr>\n",
       "    <tr>\n",
       "      <th>6648</th>\n",
       "      <td>-119.815298</td>\n",
       "      <td>39.540567</td>\n",
       "      <td>0.0</td>\n",
       "      <td>67.016304</td>\n",
       "      <td>03-44-06</td>\n",
       "      <td>-0.000794</td>\n",
       "      <td>0.073118</td>\n",
       "      <td>0.001896</td>\n",
       "      <td>247.0</td>\n",
       "      <td>-0.021103</td>\n",
       "      <td>-0.003586</td>\n",
       "      <td>0.000595</td>\n",
       "    </tr>\n",
       "    <tr>\n",
       "      <th>6649</th>\n",
       "      <td>-119.815298</td>\n",
       "      <td>39.540567</td>\n",
       "      <td>0.0</td>\n",
       "      <td>67.016304</td>\n",
       "      <td>03-44-06</td>\n",
       "      <td>-0.000794</td>\n",
       "      <td>0.073118</td>\n",
       "      <td>0.001896</td>\n",
       "      <td>247.0</td>\n",
       "      <td>-0.021103</td>\n",
       "      <td>-0.003586</td>\n",
       "      <td>0.000595</td>\n",
       "    </tr>\n",
       "    <tr>\n",
       "      <th>6650</th>\n",
       "      <td>-119.815298</td>\n",
       "      <td>39.540567</td>\n",
       "      <td>0.0</td>\n",
       "      <td>67.016304</td>\n",
       "      <td>03-44-06</td>\n",
       "      <td>-0.000794</td>\n",
       "      <td>0.073118</td>\n",
       "      <td>0.001896</td>\n",
       "      <td>247.0</td>\n",
       "      <td>-0.021103</td>\n",
       "      <td>-0.003586</td>\n",
       "      <td>0.000595</td>\n",
       "    </tr>\n",
       "    <tr>\n",
       "      <th>6651</th>\n",
       "      <td>-119.815298</td>\n",
       "      <td>39.540567</td>\n",
       "      <td>0.0</td>\n",
       "      <td>67.016304</td>\n",
       "      <td>03-44-06</td>\n",
       "      <td>-0.000794</td>\n",
       "      <td>0.073118</td>\n",
       "      <td>0.001896</td>\n",
       "      <td>247.0</td>\n",
       "      <td>-0.021103</td>\n",
       "      <td>-0.003586</td>\n",
       "      <td>0.000595</td>\n",
       "    </tr>\n",
       "    <tr>\n",
       "      <th>6652</th>\n",
       "      <td>-119.815298</td>\n",
       "      <td>39.540567</td>\n",
       "      <td>0.0</td>\n",
       "      <td>67.016304</td>\n",
       "      <td>03-44-06</td>\n",
       "      <td>-0.000794</td>\n",
       "      <td>0.073118</td>\n",
       "      <td>0.001896</td>\n",
       "      <td>247.0</td>\n",
       "      <td>-0.021103</td>\n",
       "      <td>-0.003586</td>\n",
       "      <td>0.000595</td>\n",
       "    </tr>\n",
       "  </tbody>\n",
       "</table>\n",
       "<p>6653 rows × 12 columns</p>\n",
       "</div>"
      ],
      "text/plain": [
       "       Longitude   Latitude  Speed   Distance      Time     Acc X     Acc Y  \\\n",
       "0    -119.814605  39.540291    0.0  70.013115  03-41-37 -0.811433  0.003386   \n",
       "1    -119.814605  39.540291    0.0  70.013115  03-41-37 -0.387347 -0.277568   \n",
       "2    -119.814605  39.540291    0.0  70.013115  03-41-37  0.059652 -0.101004   \n",
       "3    -119.814605  39.540291    0.0  70.013115  03-41-37  0.059652 -0.101004   \n",
       "4    -119.814605  39.540291    0.0  70.013115  03-41-37  0.059652 -0.101004   \n",
       "...          ...        ...    ...        ...       ...       ...       ...   \n",
       "6648 -119.815298  39.540567    0.0  67.016304  03-44-06 -0.000794  0.073118   \n",
       "6649 -119.815298  39.540567    0.0  67.016304  03-44-06 -0.000794  0.073118   \n",
       "6650 -119.815298  39.540567    0.0  67.016304  03-44-06 -0.000794  0.073118   \n",
       "6651 -119.815298  39.540567    0.0  67.016304  03-44-06 -0.000794  0.073118   \n",
       "6652 -119.815298  39.540567    0.0  67.016304  03-44-06 -0.000794  0.073118   \n",
       "\n",
       "         Acc Z  Heading    gyro_x    gyro_y    gyro_z  \n",
       "0     0.005771    217.0 -0.072922 -0.268402  0.130447  \n",
       "1    -0.133297    212.0 -0.047348 -0.145096  0.058014  \n",
       "2     0.177783    212.0 -0.048309  0.188492  0.320129  \n",
       "3     0.177783    212.0 -0.048309  0.188492  0.320129  \n",
       "4     0.177783    212.0 -0.048309  0.188492  0.320129  \n",
       "...        ...      ...       ...       ...       ...  \n",
       "6648  0.001896    247.0 -0.021103 -0.003586  0.000595  \n",
       "6649  0.001896    247.0 -0.021103 -0.003586  0.000595  \n",
       "6650  0.001896    247.0 -0.021103 -0.003586  0.000595  \n",
       "6651  0.001896    247.0 -0.021103 -0.003586  0.000595  \n",
       "6652  0.001896    247.0 -0.021103 -0.003586  0.000595  \n",
       "\n",
       "[6653 rows x 12 columns]"
      ]
     },
     "metadata": {},
     "execution_count": 2
    }
   ],
   "metadata": {}
  },
  {
   "cell_type": "code",
   "execution_count": 3,
   "source": [
    "plt.plot(df_vid_on[\"gyro_x\"][:200],\".-\")"
   ],
   "outputs": [
    {
     "output_type": "execute_result",
     "data": {
      "text/plain": [
       "[<matplotlib.lines.Line2D at 0x7f24c8ce8ad0>]"
      ]
     },
     "metadata": {},
     "execution_count": 3
    },
    {
     "output_type": "display_data",
     "data": {
      "image/png": "[encoded data removed]",
      "text/plain": [
       "<Figure size 432x288 with 1 Axes>"
      ]
     },
     "metadata": {
      "needs_background": "light"
     }
    }
   ],
   "metadata": {}
  },
  {
   "cell_type": "code",
   "execution_count": 4,
   "source": [
    "#gyroscope data looks stable and consistent for walking, with spikes when phone was put into and taken out of pocket\n",
    "plt.plot(df_vid_on[\"gyro_x\"],\".-\")\n",
    "plt.plot(df_vid_on[\"gyro_y\"],\".-\")\n",
    "plt.plot(df_vid_on[\"gyro_z\"],\".-\")"
   ],
   "outputs": [
    {
     "output_type": "execute_result",
     "data": {
      "text/plain": [
       "[<matplotlib.lines.Line2D at 0x7f24c5d89f10>]"
      ]
     },
     "metadata": {},
     "execution_count": 4
    },
    {
     "output_type": "display_data",
     "data": {
      "image/png": "[encoded data removed]",
      "text/plain": [
       "<Figure size 432x288 with 1 Axes>"
      ]
     },
     "metadata": {
      "needs_background": "light"
     }
    }
   ],
   "metadata": {}
  },
  {
   "cell_type": "code",
   "execution_count": 5,
   "source": [
    "np.ptp(df_vid_on[\"Latitude\"])\n",
    "np.ptp(df_vid_on[\"Longitude\"])\n"
   ],
   "outputs": [
    {
     "output_type": "execute_result",
     "data": {
      "text/plain": [
       "0.0007311399999991863"
      ]
     },
     "metadata": {},
     "execution_count": 5
    }
   ],
   "metadata": {}
  },
  {
   "cell_type": "code",
   "execution_count": 6,
   "source": [
    "df_vid_on['Time'][0].split('-')"
   ],
   "outputs": [
    {
     "output_type": "execute_result",
     "data": {
      "text/plain": [
       "['03', '41', '37']"
      ]
     },
     "metadata": {},
     "execution_count": 6
    }
   ],
   "metadata": {}
  },
  {
   "cell_type": "code",
   "execution_count": 7,
   "source": [
    "tt = df_vid_on['Time']\n",
    "mins = np.array([np.int(x.split('-')[1]) for x in df_vid_on['Time']])\n",
    "seconds = np.array([np.int(x.split('-')[2]) for x in df_vid_on['Time']])\n",
    "tidx = mins * 60 + seconds\n",
    "tidx -= tidx[0]"
   ],
   "outputs": [],
   "metadata": {}
  },
  {
   "cell_type": "code",
   "execution_count": 8,
   "source": [
    "ee = 300\n",
    "plt.plot(df_vid_on['Latitude'][:ee])\n",
    "plt.xticks(np.arange(0, ee, 15))\n",
    "plt.grid(axis='x')"
   ],
   "outputs": [
    {
     "output_type": "display_data",
     "data": {
      "image/png": "[encoded data removed]",
      "text/plain": [
       "<Figure size 432x288 with 1 Axes>"
      ]
     },
     "metadata": {
      "needs_background": "light"
     }
    }
   ],
   "metadata": {}
  },
  {
   "cell_type": "code",
   "execution_count": 9,
   "source": [
    "plt.plot(tidx, df_vid_on[\"Latitude\"],\".-\")"
   ],
   "outputs": [
    {
     "output_type": "execute_result",
     "data": {
      "text/plain": [
       "[<matplotlib.lines.Line2D at 0x7f24c5c91310>]"
      ]
     },
     "metadata": {},
     "execution_count": 9
    },
    {
     "output_type": "display_data",
     "data": {
      "image/png": "[encoded data removed]",
      "text/plain": [
       "<Figure size 432x288 with 1 Axes>"
      ]
     },
     "metadata": {
      "needs_background": "light"
     }
    }
   ],
   "metadata": {}
  },
  {
   "cell_type": "code",
   "execution_count": 11,
   "source": [
    "#longitude vs latitude\n",
    "#seems inaccurate, walked in an oval around Hillyard Plaza started and finished at southwest corner closer to MSS\n",
    "#should walk same route with alt app to compare, use one phone per app\n",
    "fig, ax = plt.subplots()\n",
    "ax.plot(df_vid_on[\"Longitude\"],df_vid_on[\"Latitude\"],\".-\", alpha=0.02)\n",
    "#sch = ax.scatter(df_vid_on[\"Longitude\"],df_vid_on[\"Latitude\"], c=tidx, alpha=0.1)\n",
    "ax.axis(\"equal\")\n",
    "xl = ax.get_xlim()\n",
    "yl = ax.get_ylim()\n",
    "ax.set_xlim(xl)\n",
    "ax.set_ylim(yl)\n",
    "fig.colorbar(sch)\n"
   ],
   "outputs": [
    {
     "output_type": "error",
     "ename": "NameError",
     "evalue": "name 'sch' is not defined",
     "traceback": [
      "\u001b[0;31m---------------------------------------------------------------------------\u001b[0m",
      "\u001b[0;31mNameError\u001b[0m                                 Traceback (most recent call last)",
      "\u001b[0;32m<ipython-input-11-c01ec4be4b50>\u001b[0m in \u001b[0;36m<module>\u001b[0;34m\u001b[0m\n\u001b[1;32m     10\u001b[0m \u001b[0max\u001b[0m\u001b[0;34m.\u001b[0m\u001b[0mset_xlim\u001b[0m\u001b[0;34m(\u001b[0m\u001b[0mxl\u001b[0m\u001b[0;34m)\u001b[0m\u001b[0;34m\u001b[0m\u001b[0;34m\u001b[0m\u001b[0m\n\u001b[1;32m     11\u001b[0m \u001b[0max\u001b[0m\u001b[0;34m.\u001b[0m\u001b[0mset_ylim\u001b[0m\u001b[0;34m(\u001b[0m\u001b[0myl\u001b[0m\u001b[0;34m)\u001b[0m\u001b[0;34m\u001b[0m\u001b[0;34m\u001b[0m\u001b[0m\n\u001b[0;32m---> 12\u001b[0;31m \u001b[0mfig\u001b[0m\u001b[0;34m.\u001b[0m\u001b[0mcolorbar\u001b[0m\u001b[0;34m(\u001b[0m\u001b[0msch\u001b[0m\u001b[0;34m)\u001b[0m\u001b[0;34m\u001b[0m\u001b[0;34m\u001b[0m\u001b[0m\n\u001b[0m",
      "\u001b[0;31mNameError\u001b[0m: name 'sch' is not defined"
     ]
    },
    {
     "output_type": "display_data",
     "data": {
      "image/png": "[encoded data removed]",
      "text/plain": [
       "<Figure size 432x288 with 1 Axes>"
      ]
     },
     "metadata": {
      "needs_background": "light"
     }
    }
   ],
   "metadata": {}
  },
  {
   "cell_type": "code",
   "execution_count": null,
   "source": [],
   "outputs": [],
   "metadata": {}
  },
  {
   "cell_type": "code",
   "execution_count": null,
   "source": [
    "#first 360 datapoints @ 15Hz\n",
    "plt.plot(df_vid_on[\"Longitude\"][0:360],\".-\")"
   ],
   "outputs": [
    {
     "output_type": "execute_result",
     "data": {
      "text/plain": [
       "[<matplotlib.lines.Line2D at 0x7f8e075ea890>]"
      ]
     },
     "metadata": {},
     "execution_count": 6
    },
    {
     "output_type": "display_data",
     "data": {
      "image/png": "[encoded data removed]",
      "text/plain": [
       "<Figure size 432x288 with 1 Axes>"
      ]
     },
     "metadata": {
      "needs_background": "light"
     }
    }
   ],
   "metadata": {}
  },
  {
   "cell_type": "markdown",
   "source": [
    "# Video off: phone locked in pocket"
   ],
   "metadata": {}
  },
  {
   "cell_type": "code",
   "execution_count": null,
   "source": [
    "df_vid_off = pd.read_csv(r'/home/hunter/hunter_sync/space/undergrad_work/hunterh/notes/gps_tests/test_4_gps/20210903_034409/20210903_034409.csv')\n",
    "df_vid_off"
   ],
   "outputs": [
    {
     "output_type": "execute_result",
     "data": {
      "text/html": [
       "<div>\n",
       "<style scoped>\n",
       "    .dataframe tbody tr th:only-of-type {\n",
       "        vertical-align: middle;\n",
       "    }\n",
       "\n",
       "    .dataframe tbody tr th {\n",
       "        vertical-align: top;\n",
       "    }\n",
       "\n",
       "    .dataframe thead th {\n",
       "        text-align: right;\n",
       "    }\n",
       "</style>\n",
       "<table border=\"1\" class=\"dataframe\">\n",
       "  <thead>\n",
       "    <tr style=\"text-align: right;\">\n",
       "      <th></th>\n",
       "      <th>Longitude</th>\n",
       "      <th>Latitude</th>\n",
       "      <th>Speed</th>\n",
       "      <th>Distance</th>\n",
       "      <th>Time</th>\n",
       "      <th>Acc X</th>\n",
       "      <th>Acc Y</th>\n",
       "      <th>Acc Z</th>\n",
       "      <th>Heading</th>\n",
       "      <th>gyro_x</th>\n",
       "      <th>gyro_y</th>\n",
       "      <th>gyro_z</th>\n",
       "    </tr>\n",
       "  </thead>\n",
       "  <tbody>\n",
       "    <tr>\n",
       "      <th>0</th>\n",
       "      <td>-119.815306</td>\n",
       "      <td>39.540573</td>\n",
       "      <td>0.0</td>\n",
       "      <td>67.861824</td>\n",
       "      <td>03-44-10</td>\n",
       "      <td>0.072668</td>\n",
       "      <td>0.161875</td>\n",
       "      <td>-0.073916</td>\n",
       "      <td>247.0</td>\n",
       "      <td>-0.115906</td>\n",
       "      <td>-0.009705</td>\n",
       "      <td>-0.095978</td>\n",
       "    </tr>\n",
       "    <tr>\n",
       "      <th>1</th>\n",
       "      <td>-119.815306</td>\n",
       "      <td>39.540574</td>\n",
       "      <td>0.0</td>\n",
       "      <td>0.000000</td>\n",
       "      <td>03-44-10</td>\n",
       "      <td>0.072668</td>\n",
       "      <td>0.161875</td>\n",
       "      <td>-0.073916</td>\n",
       "      <td>247.0</td>\n",
       "      <td>-0.115906</td>\n",
       "      <td>-0.009705</td>\n",
       "      <td>-0.095978</td>\n",
       "    </tr>\n",
       "    <tr>\n",
       "      <th>2</th>\n",
       "      <td>-119.815306</td>\n",
       "      <td>39.540574</td>\n",
       "      <td>0.0</td>\n",
       "      <td>0.000000</td>\n",
       "      <td>03-44-10</td>\n",
       "      <td>0.072668</td>\n",
       "      <td>0.161875</td>\n",
       "      <td>-0.073916</td>\n",
       "      <td>247.0</td>\n",
       "      <td>-0.115906</td>\n",
       "      <td>-0.009705</td>\n",
       "      <td>-0.095978</td>\n",
       "    </tr>\n",
       "    <tr>\n",
       "      <th>3</th>\n",
       "      <td>-119.815306</td>\n",
       "      <td>39.540574</td>\n",
       "      <td>0.0</td>\n",
       "      <td>0.000000</td>\n",
       "      <td>03-44-10</td>\n",
       "      <td>0.072668</td>\n",
       "      <td>0.161875</td>\n",
       "      <td>-0.073916</td>\n",
       "      <td>247.0</td>\n",
       "      <td>-0.115906</td>\n",
       "      <td>-0.009705</td>\n",
       "      <td>-0.095978</td>\n",
       "    </tr>\n",
       "    <tr>\n",
       "      <th>4</th>\n",
       "      <td>-119.815306</td>\n",
       "      <td>39.540574</td>\n",
       "      <td>0.0</td>\n",
       "      <td>0.000000</td>\n",
       "      <td>03-44-10</td>\n",
       "      <td>0.072668</td>\n",
       "      <td>0.161875</td>\n",
       "      <td>-0.073916</td>\n",
       "      <td>247.0</td>\n",
       "      <td>-0.115906</td>\n",
       "      <td>-0.009705</td>\n",
       "      <td>-0.095978</td>\n",
       "    </tr>\n",
       "    <tr>\n",
       "      <th>...</th>\n",
       "      <td>...</td>\n",
       "      <td>...</td>\n",
       "      <td>...</td>\n",
       "      <td>...</td>\n",
       "      <td>...</td>\n",
       "      <td>...</td>\n",
       "      <td>...</td>\n",
       "      <td>...</td>\n",
       "      <td>...</td>\n",
       "      <td>...</td>\n",
       "      <td>...</td>\n",
       "      <td>...</td>\n",
       "    </tr>\n",
       "    <tr>\n",
       "      <th>8794</th>\n",
       "      <td>-119.815568</td>\n",
       "      <td>39.540775</td>\n",
       "      <td>0.0</td>\n",
       "      <td>31.727516</td>\n",
       "      <td>03-46-38</td>\n",
       "      <td>-0.120977</td>\n",
       "      <td>0.059970</td>\n",
       "      <td>0.039847</td>\n",
       "      <td>241.0</td>\n",
       "      <td>0.017685</td>\n",
       "      <td>0.014908</td>\n",
       "      <td>0.096527</td>\n",
       "    </tr>\n",
       "    <tr>\n",
       "      <th>8795</th>\n",
       "      <td>-119.815568</td>\n",
       "      <td>39.540775</td>\n",
       "      <td>0.0</td>\n",
       "      <td>31.727516</td>\n",
       "      <td>03-46-38</td>\n",
       "      <td>-0.120977</td>\n",
       "      <td>0.059970</td>\n",
       "      <td>0.039847</td>\n",
       "      <td>241.0</td>\n",
       "      <td>0.017685</td>\n",
       "      <td>0.014908</td>\n",
       "      <td>0.096527</td>\n",
       "    </tr>\n",
       "    <tr>\n",
       "      <th>8796</th>\n",
       "      <td>-119.815568</td>\n",
       "      <td>39.540775</td>\n",
       "      <td>0.0</td>\n",
       "      <td>31.727516</td>\n",
       "      <td>03-46-38</td>\n",
       "      <td>-0.120977</td>\n",
       "      <td>0.059970</td>\n",
       "      <td>0.039847</td>\n",
       "      <td>241.0</td>\n",
       "      <td>0.017685</td>\n",
       "      <td>0.014908</td>\n",
       "      <td>0.096527</td>\n",
       "    </tr>\n",
       "    <tr>\n",
       "      <th>8797</th>\n",
       "      <td>-119.815568</td>\n",
       "      <td>39.540775</td>\n",
       "      <td>0.0</td>\n",
       "      <td>31.727516</td>\n",
       "      <td>03-46-38</td>\n",
       "      <td>-0.120977</td>\n",
       "      <td>0.059970</td>\n",
       "      <td>0.039847</td>\n",
       "      <td>241.0</td>\n",
       "      <td>0.017685</td>\n",
       "      <td>0.014908</td>\n",
       "      <td>0.096527</td>\n",
       "    </tr>\n",
       "    <tr>\n",
       "      <th>8798</th>\n",
       "      <td>-119.815568</td>\n",
       "      <td>39.540775</td>\n",
       "      <td>0.0</td>\n",
       "      <td>31.727516</td>\n",
       "      <td>03-46-38</td>\n",
       "      <td>-0.120977</td>\n",
       "      <td>0.059970</td>\n",
       "      <td>0.039847</td>\n",
       "      <td>241.0</td>\n",
       "      <td>0.017685</td>\n",
       "      <td>0.014908</td>\n",
       "      <td>0.096527</td>\n",
       "    </tr>\n",
       "  </tbody>\n",
       "</table>\n",
       "<p>8799 rows × 12 columns</p>\n",
       "</div>"
      ],
      "text/plain": [
       "       Longitude   Latitude  Speed   Distance      Time     Acc X     Acc Y  \\\n",
       "0    -119.815306  39.540573    0.0  67.861824  03-44-10  0.072668  0.161875   \n",
       "1    -119.815306  39.540574    0.0   0.000000  03-44-10  0.072668  0.161875   \n",
       "2    -119.815306  39.540574    0.0   0.000000  03-44-10  0.072668  0.161875   \n",
       "3    -119.815306  39.540574    0.0   0.000000  03-44-10  0.072668  0.161875   \n",
       "4    -119.815306  39.540574    0.0   0.000000  03-44-10  0.072668  0.161875   \n",
       "...          ...        ...    ...        ...       ...       ...       ...   \n",
       "8794 -119.815568  39.540775    0.0  31.727516  03-46-38 -0.120977  0.059970   \n",
       "8795 -119.815568  39.540775    0.0  31.727516  03-46-38 -0.120977  0.059970   \n",
       "8796 -119.815568  39.540775    0.0  31.727516  03-46-38 -0.120977  0.059970   \n",
       "8797 -119.815568  39.540775    0.0  31.727516  03-46-38 -0.120977  0.059970   \n",
       "8798 -119.815568  39.540775    0.0  31.727516  03-46-38 -0.120977  0.059970   \n",
       "\n",
       "         Acc Z  Heading    gyro_x    gyro_y    gyro_z  \n",
       "0    -0.073916    247.0 -0.115906 -0.009705 -0.095978  \n",
       "1    -0.073916    247.0 -0.115906 -0.009705 -0.095978  \n",
       "2    -0.073916    247.0 -0.115906 -0.009705 -0.095978  \n",
       "3    -0.073916    247.0 -0.115906 -0.009705 -0.095978  \n",
       "4    -0.073916    247.0 -0.115906 -0.009705 -0.095978  \n",
       "...        ...      ...       ...       ...       ...  \n",
       "8794  0.039847    241.0  0.017685  0.014908  0.096527  \n",
       "8795  0.039847    241.0  0.017685  0.014908  0.096527  \n",
       "8796  0.039847    241.0  0.017685  0.014908  0.096527  \n",
       "8797  0.039847    241.0  0.017685  0.014908  0.096527  \n",
       "8798  0.039847    241.0  0.017685  0.014908  0.096527  \n",
       "\n",
       "[8799 rows x 12 columns]"
      ]
     },
     "metadata": {},
     "execution_count": 7
    }
   ],
   "metadata": {}
  },
  {
   "cell_type": "code",
   "execution_count": null,
   "source": [
    "#looks like the phone stops sampling when locked...\n",
    "plt.plot(df_vid_off[\"Latitude\"],df_vid_off[\"Longitude\"],\".-\")"
   ],
   "outputs": [
    {
     "output_type": "execute_result",
     "data": {
      "text/plain": [
       "[<matplotlib.lines.Line2D at 0x7f8e07547f90>]"
      ]
     },
     "metadata": {},
     "execution_count": 8
    },
    {
     "output_type": "display_data",
     "data": {
      "image/png": "[encoded data removed]",
      "text/plain": [
       "<Figure size 432x288 with 1 Axes>"
      ]
     },
     "metadata": {
      "needs_background": "light"
     }
    }
   ],
   "metadata": {}
  }
 ],
 "metadata": {
  "orig_nbformat": 4,
  "language_info": {
   "name": "python",
   "version": "3.7.10",
   "mimetype": "text/x-python",
   "codemirror_mode": {
    "name": "ipython",
    "version": 3
   },
   "pygments_lexer": "ipython3",
   "nbconvert_exporter": "python",
   "file_extension": ".py"
  },
  "kernelspec": {
   "name": "python3",
   "display_name": "Python 3.7.10 64-bit ('pomlab': conda)"
  },
  "interpreter": {
   "hash": "6f30d4184fedcacdd46ea7083b0b7b16b8b0f7e6367d7586e2a8fe1b4035067b"
  }
 },
 "nbformat": 4,
 "nbformat_minor": 2
}