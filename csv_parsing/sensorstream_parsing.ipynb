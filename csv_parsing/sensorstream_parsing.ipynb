{
 "cells": [
  {
   "cell_type": "markdown",
   "source": [
    "# Parsing sensorstream data into something actually useable"
   ],
   "metadata": {}
  },
  {
   "cell_type": "markdown",
   "source": [
    "### Parsing functions"
   ],
   "metadata": {}
  },
  {
   "cell_type": "code",
   "execution_count": 1,
   "source": [
    "import numpy as np\n",
    "import csv\n",
    "import pandas as pd\n",
    "\n",
    "def parse_csv_to_pandas(fpath):\n",
    "    with open(fpath, 'r') as file:\n",
    "        reader = csv.reader(file)\n",
    "        dataframe_rows = [[float(element) for element in row] for row in reader]\n",
    "\n",
    "    n_tpts = len(dataframe_rows)\n",
    "\n",
    "    dataframe = pd.DataFrame(data = {\n",
    "        'time': list(np.full((n_tpts, 1), np.nan)),\n",
    "        'gps': list(np.full((n_tpts,3), np.nan)),\n",
    "        'unknown1': list(np.full((n_tpts, 1), np.nan)),\n",
    "        'accelerometer': list(np.full((n_tpts, 3), np.nan)),\n",
    "        'unknown2': list(np.full((n_tpts, 3), np.nan)),\n",
    "        'magnetic_field': list(np.full((n_tpts, 3), np.nan)),\n",
    "        'unknown3': list(np.full((n_tpts, 3), np.nan)),\n",
    "        'unknown4': list(np.full((n_tpts, 3), np.nan)),\n",
    "        'unknown5': list(np.full((n_tpts, 1), np.nan)),\n",
    "    })\n",
    "\n",
    "    for row_num, row in enumerate(dataframe_rows):\n",
    "        dataframe.iat[row_num,0] = row[0]\n",
    "        splits = [row[i:i + 4] for i in range(1, len(row), 4)]\n",
    "        for i in range(1,9):\n",
    "            for split in splits:\n",
    "                if int(split[0]) == i:\n",
    "                    dataframe.iat[row_num,i] = split[1:]\n",
    "\n",
    "    return dataframe\n",
    "\n",
    "def pandas_to_numpy(dataframe, keys):\n",
    "    np_datasets = []\n",
    "    for key in keys:\n",
    "        np_dataset = dataframe[key].values\n",
    "        if not isinstance(np_dataset[0], float):\n",
    "            np_dataset = np.array([list(row) for row in np_dataset])\n",
    "        np_dataset = np_dataset.astype(np.float)\n",
    "        np_datasets.append(np_dataset)\n",
    "    return np_datasets"
   ],
   "outputs": [],
   "metadata": {}
  },
  {
   "cell_type": "markdown",
   "source": [
    "### Example parsing"
   ],
   "metadata": {}
  },
  {
   "cell_type": "markdown",
   "source": [
    "NOTE: assumes data was collected with **only the first four boxes checked** (down through 'GPS Position').  Will probably require some modification to work for other data."
   ],
   "metadata": {}
  },
  {
   "cell_type": "code",
   "execution_count": 2,
   "source": [
    "fpath = '/home/hunter/hunter_sync/space/undergrad_work/hunterh/notes/gps_tests/test_5_app_comparison/mystream_9_8_4_37_21.csv'\n",
    "dataframe = parse_csv_to_pandas(fpath)"
   ],
   "outputs": [],
   "metadata": {}
  },
  {
   "cell_type": "code",
   "execution_count": 3,
   "source": [
    "time, gps, accelerometer = pandas_to_numpy(dataframe, ['time', 'gps', 'accelerometer'])"
   ],
   "outputs": [],
   "metadata": {}
  },
  {
   "cell_type": "markdown",
   "source": [
    "### Remove nans (timepoints where we didn't have any data for that sensor)"
   ],
   "metadata": {}
  },
  {
   "cell_type": "code",
   "execution_count": 4,
   "source": [
    "time[~np.isnan(time)]"
   ],
   "outputs": [
    {
     "output_type": "execute_result",
     "data": {
      "text/plain": [
       "array([2850717.29133, 2850717.29383, 2850717.29633, ..., 2851030.42931,\n",
       "       2851030.43185, 2851030.43438])"
      ]
     },
     "metadata": {},
     "execution_count": 4
    }
   ],
   "metadata": {
    "scrolled": true
   }
  },
  {
   "cell_type": "code",
   "execution_count": 5,
   "source": [
    "gps[np.isnan(gps).sum(axis=1) < 3]"
   ],
   "outputs": [
    {
     "output_type": "execute_result",
     "data": {
      "text/plain": [
       "array([], shape=(0, 3), dtype=float64)"
      ]
     },
     "metadata": {},
     "execution_count": 5
    }
   ],
   "metadata": {}
  },
  {
   "cell_type": "code",
   "execution_count": 6,
   "source": [
    "accelerometer[np.isnan(accelerometer).sum(axis=1) < 3]"
   ],
   "outputs": [
    {
     "output_type": "execute_result",
     "data": {
      "text/plain": [
       "array([[ 6.400e-02,  3.096e+00,  9.428e+00],\n",
       "       [-3.000e-03,  3.087e+00,  9.430e+00],\n",
       "       [ 6.000e-03,  3.096e+00,  9.296e+00],\n",
       "       ...,\n",
       "       [ 8.230e-01,  5.546e+00,  8.652e+00],\n",
       "       [ 7.340e-01,  5.668e+00,  8.676e+00],\n",
       "       [ 6.910e-01,  5.680e+00,  8.623e+00]])"
      ]
     },
     "metadata": {},
     "execution_count": 6
    }
   ],
   "metadata": {}
  },
  {
   "cell_type": "markdown",
   "source": [
    "### Visualizations"
   ],
   "metadata": {}
  },
  {
   "cell_type": "code",
   "execution_count": 7,
   "source": [
    "from matplotlib import pyplot as plt\n",
    "%matplotlib inline"
   ],
   "outputs": [],
   "metadata": {}
  },
  {
   "cell_type": "code",
   "execution_count": 8,
   "source": [
    "plt.plot(time);"
   ],
   "outputs": [
    {
     "output_type": "display_data",
     "data": {
      "image/png": "[encoded data removed]",
      "text/plain": [
       "<Figure size 432x288 with 1 Axes>"
      ]
     },
     "metadata": {
      "needs_background": "light"
     }
    }
   ],
   "metadata": {}
  },
  {
   "cell_type": "code",
   "execution_count": 9,
   "source": [
    "lat, long, elevation = gps[np.isnan(gps).sum(axis=1) < 3].T\n",
    "plt.plot(long, lat)\n",
    "plt.gca().set_aspect('equal')"
   ],
   "outputs": [
    {
     "output_type": "display_data",
     "data": {
      "image/png": "[encoded data removed]",
      "text/plain": [
       "<Figure size 432x288 with 1 Axes>"
      ]
     },
     "metadata": {
      "needs_background": "light"
     }
    }
   ],
   "metadata": {}
  },
  {
   "cell_type": "markdown",
   "source": [
    "Print off GPS data in a format for directly pasting into the paste bin at https://www.gpsvisualizer.com/map_input\n",
    "\n",
    "(copy the entire output, including 'latitude,longitude')"
   ],
   "metadata": {}
  },
  {
   "cell_type": "code",
   "execution_count": 10,
   "source": [
    "print('latitude,longitude,elevation')\n",
    "for row in gps[np.isnan(gps).sum(axis=1) < 3]:\n",
    "    print(f'{row[0]},{row[1]},{row[2]}')"
   ],
   "outputs": [
    {
     "output_type": "stream",
     "name": "stdout",
     "text": [
      "latitude,longitude,elevation\n"
     ]
    }
   ],
   "metadata": {}
  },
  {
   "cell_type": "code",
   "execution_count": 11,
   "source": [
    "plt.plot(accelerometer)\n",
    "plt.legend(['x', 'y', 'z']);"
   ],
   "outputs": [
    {
     "output_type": "stream",
     "name": "stderr",
     "text": [
      "/home/hunter/anaconda3/envs/pomlab/lib/python3.7/site-packages/IPython/core/pylabtools.py:134: UserWarning: Creating legend with loc=\"best\" can be slow with large amounts of data.\n",
      "  fig.canvas.print_figure(bytes_io, **kw)\n"
     ]
    },
    {
     "output_type": "display_data",
     "data": {
      "image/png": "[encoded data removed]",
      "text/plain": [
       "<Figure size 432x288 with 1 Axes>"
      ]
     },
     "metadata": {
      "needs_background": "light"
     }
    }
   ],
   "metadata": {}
  }
 ],
 "metadata": {
  "kernelspec": {
   "name": "python3",
   "display_name": "Python 3.7.10 64-bit ('pomlab': conda)"
  },
  "language_info": {
   "codemirror_mode": {
    "name": "ipython",
    "version": 3
   },
   "file_extension": ".py",
   "mimetype": "text/x-python",
   "name": "python",
   "nbconvert_exporter": "python",
   "pygments_lexer": "ipython3",
   "version": "3.7.10"
  },
  "interpreter": {
   "hash": "6f30d4184fedcacdd46ea7083b0b7b16b8b0f7e6367d7586e2a8fe1b4035067b"
  }
 },
 "nbformat": 4,
 "nbformat_minor": 4
}